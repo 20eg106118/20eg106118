{
  "cells": [
    {
      "cell_type": "markdown",
      "metadata": {
        "id": "view-in-github",
        "colab_type": "text"
      },
      "source": [
        "<a href=\"https://colab.research.google.com/github/20eg106118/20eg106118/blob/main/DL1.ipynb\" target=\"_parent\"><img src=\"https://colab.research.google.com/assets/colab-badge.svg\" alt=\"Open In Colab\"/></a>"
      ]
    },
    {
      "cell_type": "code",
      "execution_count": 1,
      "metadata": {
        "colab": {
          "base_uri": "https://localhost:8080/"
        },
        "id": "7Rtx4KODJ5hv",
        "outputId": "4a0821e6-46ec-4408-a317-c58a31dd6a83"
      },
      "outputs": [
        {
          "output_type": "stream",
          "name": "stdout",
          "text": [
            "Downloading data from https://storage.googleapis.com/tensorflow/tf-keras-datasets/imdb.npz\n",
            "17464789/17464789 [==============================] - 1s 0us/step\n",
            "Epoch 1/5\n",
            "157/157 [==============================] - 123s 736ms/step - loss: 0.6499 - accuracy: 0.5948 - val_loss: 0.4702 - val_accuracy: 0.7802\n",
            "Epoch 2/5\n",
            "157/157 [==============================] - 106s 676ms/step - loss: 0.5599 - accuracy: 0.7171 - val_loss: 0.5923 - val_accuracy: 0.6748\n",
            "Epoch 3/5\n",
            "157/157 [==============================] - 99s 627ms/step - loss: 0.4335 - accuracy: 0.8076 - val_loss: 0.4490 - val_accuracy: 0.7990\n",
            "Epoch 4/5\n",
            "157/157 [==============================] - 96s 615ms/step - loss: 0.4614 - accuracy: 0.7764 - val_loss: 0.5769 - val_accuracy: 0.6876\n",
            "Epoch 5/5\n",
            "157/157 [==============================] - 96s 609ms/step - loss: 0.4337 - accuracy: 0.8018 - val_loss: 0.4980 - val_accuracy: 0.8000\n",
            "196/196 [==============================] - 9s 46ms/step - loss: 0.4910 - accuracy: 0.8027\n",
            "Test loss: 0.4909534752368927\n",
            "Test accuracy: 0.8027200102806091\n"
          ]
        }
      ],
      "source": [
        "import numpy as np\n",
        "import pandas as pd\n",
        "from tensorflow.keras.datasets import imdb\n",
        "from tensorflow.keras.models import Sequential\n",
        "from tensorflow.keras.layers import Embedding, GRU, Dense,LSTM\n",
        "import keras\n",
        "from keras import layers\n",
        "from tensorflow.keras.preprocessing import sequence\n",
        "\n",
        "# Set the maximum number of words to consider in the reviews\n",
        "max_words = 5000\n",
        "\n",
        "# Load the IMDB dataset\n",
        "(x_train, y_train), (x_test, y_test) = imdb.load_data(num_words=max_words)\n",
        "\n",
        "# Pad the sequences to have the same length\n",
        "max_length = 500\n",
        "x_train = sequence.pad_sequences(x_train, maxlen=max_length)\n",
        "x_test = sequence.pad_sequences(x_test, maxlen=max_length)\n",
        "\n",
        "# Build the GRU-based model\n",
        "model = Sequential()\n",
        "model.add(Embedding(max_words, 100, input_length=max_length))\n",
        "model.add(layers.SimpleRNN(128))\n",
        "model.add(Dense(1, activation='sigmoid'))\n",
        "\n",
        "model.compile(loss='binary_crossentropy', optimizer='adam', metrics=['accuracy'])\n",
        "\n",
        "# Train the model\n",
        "batch_size = 128\n",
        "epochs = 5\n",
        "model.fit(x_train, y_train, batch_size=batch_size, epochs=epochs, validation_split=0.2)\n",
        "\n",
        "# Evaluate the model on the test set\n",
        "loss, accuracy = model.evaluate(x_test, y_test, batch_size=batch_size)\n",
        "print(\"Test loss:\", loss)\n",
        "print(\"Test accuracy:\", accuracy)\n"
      ]
    },
    {
      "cell_type": "code",
      "source": [
        "history=model.fit(x_train,y_train,batch_size=batch_size,epochs=epochs)"
      ],
      "metadata": {
        "colab": {
          "base_uri": "https://localhost:8080/"
        },
        "id": "zNAO_TfSXP_h",
        "outputId": "3a8e3ea2-3d87-456b-9983-a95ae66264ef"
      },
      "execution_count": 2,
      "outputs": [
        {
          "output_type": "stream",
          "name": "stdout",
          "text": [
            "Epoch 1/5\n",
            "196/196 [==============================] - 116s 589ms/step - loss: 0.3810 - accuracy: 0.8407\n",
            "Epoch 2/5\n",
            "196/196 [==============================] - 112s 573ms/step - loss: 0.3918 - accuracy: 0.8245\n",
            "Epoch 3/5\n",
            "196/196 [==============================] - 115s 586ms/step - loss: 0.5876 - accuracy: 0.6792\n",
            "Epoch 4/5\n",
            "196/196 [==============================] - 112s 571ms/step - loss: 0.5437 - accuracy: 0.7112\n",
            "Epoch 5/5\n",
            "196/196 [==============================] - 111s 566ms/step - loss: 0.4978 - accuracy: 0.7466\n"
          ]
        }
      ]
    },
    {
      "cell_type": "code",
      "source": [
        "train_loss1 = history.history['loss']\n",
        "train_acc1 = history.history['accuracy']\n",
        "xc1=range(len(train_acc1))"
      ],
      "metadata": {
        "id": "4Qb2wtUTZQZ6"
      },
      "execution_count": 3,
      "outputs": []
    },
    {
      "cell_type": "code",
      "execution_count": 4,
      "metadata": {
        "colab": {
          "base_uri": "https://localhost:8080/"
        },
        "id": "aVFc3K9mzVWD",
        "outputId": "7f64b017-faed-400c-8721-4aa53e1f82a2"
      },
      "outputs": [
        {
          "output_type": "stream",
          "name": "stdout",
          "text": [
            "Epoch 1/5\n",
            "157/157 [==============================] - 33s 185ms/step - loss: 0.5393 - accuracy: 0.7171 - val_loss: 0.3764 - val_accuracy: 0.8348\n",
            "Epoch 2/5\n",
            "157/157 [==============================] - 21s 134ms/step - loss: 0.3122 - accuracy: 0.8698 - val_loss: 0.3206 - val_accuracy: 0.8660\n",
            "Epoch 3/5\n",
            "157/157 [==============================] - 12s 77ms/step - loss: 0.2277 - accuracy: 0.9102 - val_loss: 0.3305 - val_accuracy: 0.8782\n",
            "Epoch 4/5\n",
            "157/157 [==============================] - 10s 67ms/step - loss: 0.1940 - accuracy: 0.9256 - val_loss: 0.3117 - val_accuracy: 0.8762\n",
            "Epoch 5/5\n",
            "157/157 [==============================] - 10s 62ms/step - loss: 0.1681 - accuracy: 0.9379 - val_loss: 0.3229 - val_accuracy: 0.8774\n",
            "196/196 [==============================] - 2s 12ms/step - loss: 0.3416 - accuracy: 0.8732\n",
            "Test loss: 0.3415946960449219\n",
            "Test accuracy: 0.8732399940490723\n"
          ]
        }
      ],
      "source": [
        "model = Sequential()\n",
        "model.add(Embedding(max_words, 100, input_length=max_length))\n",
        "model.add(layers.GRU(128))\n",
        "model.add(Dense(1, activation='sigmoid'))\n",
        "\n",
        "model.compile(loss='binary_crossentropy', optimizer='adam', metrics=['accuracy'])\n",
        "\n",
        "# Train the model\n",
        "batch_size = 128\n",
        "epochs = 5\n",
        "hist=model.fit(x_train, y_train, batch_size=batch_size, epochs=epochs, validation_split=0.2)\n",
        "\n",
        "# Evaluate the model on the test set\n",
        "loss, accuracy = model.evaluate(x_test, y_test, batch_size=batch_size)\n",
        "print(\"Test loss:\", loss)\n",
        "print(\"Test accuracy:\", accuracy)\n"
      ]
    },
    {
      "cell_type": "code",
      "source": [
        "train_loss2 = hist.history['loss']\n",
        "train_acc2 = hist.history['accuracy']\n",
        "xc2=range(len(train_acc2))"
      ],
      "metadata": {
        "id": "JvmljoAcaJrx"
      },
      "execution_count": 5,
      "outputs": []
    },
    {
      "cell_type": "code",
      "execution_count": 6,
      "metadata": {
        "id": "WPVmMxUAzgKK",
        "colab": {
          "base_uri": "https://localhost:8080/"
        },
        "outputId": "b7d87f11-da8a-4bcf-bac4-0115466f6dbd"
      },
      "outputs": [
        {
          "output_type": "stream",
          "name": "stdout",
          "text": [
            "Epoch 1/5\n",
            "157/157 [==============================] - 31s 182ms/step - loss: 0.4840 - accuracy: 0.7523 - val_loss: 0.3679 - val_accuracy: 0.8390\n",
            "Epoch 2/5\n",
            "157/157 [==============================] - 19s 122ms/step - loss: 0.2939 - accuracy: 0.8802 - val_loss: 0.3192 - val_accuracy: 0.8662\n",
            "Epoch 3/5\n",
            "157/157 [==============================] - 15s 95ms/step - loss: 0.2225 - accuracy: 0.9147 - val_loss: 0.3422 - val_accuracy: 0.8562\n",
            "Epoch 4/5\n",
            "157/157 [==============================] - 13s 81ms/step - loss: 0.1889 - accuracy: 0.9296 - val_loss: 0.4094 - val_accuracy: 0.8658\n",
            "Epoch 5/5\n",
            "157/157 [==============================] - 12s 79ms/step - loss: 0.1567 - accuracy: 0.9414 - val_loss: 0.3863 - val_accuracy: 0.8564\n",
            "196/196 [==============================] - 3s 14ms/step - loss: 0.3951 - accuracy: 0.8512\n",
            "Test loss: 0.3950968384742737\n",
            "Test accuracy: 0.8512399792671204\n"
          ]
        }
      ],
      "source": [
        "model = Sequential()\n",
        "model.add(Embedding(max_words, 100, input_length=max_length))\n",
        "model.add(layers.LSTM(128))\n",
        "model.add(Dense(1, activation='sigmoid'))\n",
        "\n",
        "model.compile(loss='binary_crossentropy', optimizer='adam', metrics=['accuracy'])\n",
        "\n",
        "# Train the model\n",
        "batch_size = 128\n",
        "epochs = 5\n",
        "h=model.fit(x_train, y_train, batch_size=batch_size, epochs=epochs, validation_split=0.2)\n",
        "\n",
        "# Evaluate the model on the test set\n",
        "loss, accuracy = model.evaluate(x_test, y_test, batch_size=batch_size)\n",
        "print(\"Test loss:\", loss)\n",
        "print(\"Test accuracy:\", accuracy)\n"
      ]
    },
    {
      "cell_type": "code",
      "source": [
        "train_loss3 = h.history['loss']\n",
        "train_acc3 = h.history['accuracy']\n",
        "xc3=range(len(train_loss3))"
      ],
      "metadata": {
        "id": "ZEk9luS_f9RI"
      },
      "execution_count": 7,
      "outputs": []
    },
    {
      "cell_type": "code",
      "source": [
        "import matplotlib.pyplot as plt\n",
        "plt.plot(xc1, train_acc1)\n",
        "plt.plot(xc2, train_acc2)\n",
        "plt.plot(xc3, train_acc3)\n",
        "plt.xlabel(\"Epoch\")\n",
        "plt.ylabel(\"Accuracy\")\n",
        "plt.legend([\"RNN\",\"GRU\",\"LSTM\"])"
      ],
      "metadata": {
        "colab": {
          "base_uri": "https://localhost:8080/",
          "height": 466
        },
        "id": "4r_8dasMgMA2",
        "outputId": "cf10b6e0-190c-499a-e6d5-5ae1fbc563fa"
      },
      "execution_count": 8,
      "outputs": [
        {
          "output_type": "execute_result",
          "data": {
            "text/plain": [
              "<matplotlib.legend.Legend at 0x7ea684073d90>"
            ]
          },
          "metadata": {},
          "execution_count": 8
        },
        {
          "output_type": "display_data",
          "data": {
            "text/plain": [
              "<Figure size 640x480 with 1 Axes>"
            ],
            "image/png": "[encoded data removed]"
          },
          "metadata": {}
        }
      ]
    }
  ],
  "metadata": {
    "accelerator": "GPU",
    "colab": {
      "provenance": [],
      "include_colab_link": true
    },
    "kernelspec": {
      "display_name": "Python 3",
      "name": "python3"
    },
    "language_info": {
      "name": "python"
    }
  },
  "nbformat": 4,
  "nbformat_minor": 0
}